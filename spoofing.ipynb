{
 "cells": [
  {
   "attachments": {},
   "cell_type": "markdown",
   "id": "81c71d7e",
   "metadata": {},
   "source": [
    "# install important Packages"
   ]
  },
  {
   "cell_type": "code",
   "execution_count": 2,
   "id": "de3ef2ff",
   "metadata": {},
   "outputs": [],
   "source": [
    "## remove teh comments to install teh required libraries\n",
    "# %pip install opencv-python cvzone\n",
    "# %pip install mediapipe --user"
   ]
  },
  {
   "attachments": {},
   "cell_type": "markdown",
   "id": "663f7be7",
   "metadata": {},
   "source": [
    "# Prep Work for Video save\n",
    " 1. Download the ffmpeg build from this [Link](https://github.com/BtbN/FFmpeg-Builds/releases/download/latest/ffmpeg-master-latest-win64-gpl.zip) (**Recomended for simplicity**),  \n",
    "  or you can Go to the Repo and get the latest Build [Here](https://github.com/BtbN/FFmpeg-Builds/releases)\n",
    " 2. Extract the `.Zip` folder and add the `bin` folder to your path environment variables\n",
    " 3. after that close your currnet `shell` or `cmd`  and RUN `ffmpeg --version` to make sure it's corctly installed \n",
    " 4. install the python bindings for ffmpeg with \n",
    "```bash\n",
    "    pip install ffmpeg-python\n",
    "```"
   ]
  },
  {
   "cell_type": "code",
   "execution_count": 3,
   "id": "07129bdc",
   "metadata": {},
   "outputs": [],
   "source": [
    "## command to install ffmpeg-python within your NoteBook\n",
    "## remove teh comments to install teh required libraries\n",
    "#%pip install ffmpeg-python"
   ]
  },
  {
   "cell_type": "code",
   "execution_count": 15,
   "id": "9a6b3cae",
   "metadata": {},
   "outputs": [],
   "source": [
    "import cv2\n",
    "import cvzone\n",
    "from cvzone.FaceMeshModule import FaceMeshDetector\n",
    "from cvzone.PlotModule import LivePlot\n",
    "import numpy as np\n",
    "import ffmpeg\n",
    "\n",
    "path = r\"D:\\New folder (5)\\Video.mp4\"\n",
    "# *************************************** for real videocam\n",
    "path = 0  # for real time feed\n",
    "# ***************************************\n",
    "cap = cv2.VideoCapture(path)\n",
    "detector = FaceMeshDetector(maxFaces=1)\n",
    "plotY = LivePlot(640, 360, [20, 50], invert=True)\n",
    "idList = [22, 23, 24, 26, 110, 157, 158, 159, 160, 161, 130, 243]\n",
    "ratioList = []\n",
    "blinkCounter = 0\n",
    "counter = 0\n",
    "color = (255, 0, 0)\n",
    "blank = np.zeros((500, 500, 1), dtype=\"uint8\")\n",
    "\n",
    "\n",
    "# ******************************************************************\n",
    "# Create a ffmpeg stream object for writing frames to the output file using the given format\n",
    "OUTPUT_FILE_NAME = \"output.mp4\"  # Output file name\n",
    "VideoCODEC = 'libx264'  # Output file codec\n",
    "process = (\n",
    "    ffmpeg\n",
    "    .input('pipe:', format='rawvideo', pix_fmt='bgr24', s=f'{1280}x{360}')\n",
    "    .output(str(OUTPUT_FILE_NAME), pix_fmt='yuv420p', vcodec=VideoCODEC)\n",
    "    .overwrite_output()\n",
    "    .run_async(pipe_stdin=True)\n",
    ")\n",
    "# *****************************************************************\n",
    "while True:\n",
    "    if cap.get(cv2.CAP_PROP_POS_FRAMES) == cap.get(cv2.CAP_PROP_FRAME_COUNT):\n",
    "        cap.set(cv2.CAP_PROP_POS_FRAMES, 0)\n",
    "    success, img = cap.read()\n",
    "    img, faces = detector.findFaceMesh(img, draw=True)\n",
    "    if faces:\n",
    "        face = faces[0]\n",
    "        for id in idList:\n",
    "            cv2.circle(img, face[id], 5, color, cv2.FILLED)\n",
    "        leftUp = face[159]\n",
    "        leftDown = face[23]\n",
    "        leftLeft = face[130]\n",
    "        leftRight = face[243]\n",
    "        lenghtVer, _ = detector.findDistance(leftUp, leftDown)\n",
    "        lenghtHor, _ = detector.findDistance(leftLeft, leftRight)\n",
    "        cv2.line(img, leftUp, leftDown, (255, 200, 0), 3)\n",
    "        cv2.line(img, leftLeft, leftRight, (0, 200, 0), 3)\n",
    "        ratio = int((lenghtVer / lenghtHor) * 100)\n",
    "        ratioList.append(ratio)\n",
    "        if len(ratioList) > 3:\n",
    "            ratioList.pop(0)\n",
    "        ratioAvg = sum(ratioList) / len(ratioList)\n",
    "        if 39 < ratioAvg < 43 and counter == 0:\n",
    "            blinkCounter += 1\n",
    "            color = (0, 200, 0)\n",
    "            counter = 1\n",
    "        if counter != 0:\n",
    "            counter += 1\n",
    "            if counter > 5:\n",
    "                counter = 0\n",
    "                color = (255, 0, 255)\n",
    "        cvzone.putTextRect(img, f'Blink Count: {blinkCounter}', (50, 100),\n",
    "                           colorR=color)\n",
    "        if 5 < blinkCounter < 10:\n",
    "            cvzone.putTextRect(img, 'real ', (50, 150), colorR=color)\n",
    "        elif blinkCounter > 10:\n",
    "            blinkCounter = 0\n",
    "        imgPlot = plotY.update(ratioAvg, color)\n",
    "        img = cv2.resize(img, (640, 360))\n",
    "        imgStack = cvzone.stackImages([img, imgPlot], 2, 1)\n",
    "    else:\n",
    "        img = cv2.resize(img, (640, 360))\n",
    "        imgStack = cvzone.stackImages([img, blank], 2, 1)\n",
    "    # *********************************************************\n",
    "    # Write each frame to output file using ffmpeg stream object\n",
    "    process.stdin.write(\n",
    "        imgStack\n",
    "        .astype(np.uint8)\n",
    "        .tobytes()\n",
    "    )\n",
    "    # *********************************************************\n",
    "    cv2.imshow(\"Image\", imgStack)\n",
    "    if cv2.waitKey(30) == ord('q'):\n",
    "        break\n",
    "# ******************************************\n",
    "process.stdin.close()\n",
    "process.wait()\n",
    "# ******************************************\n",
    "cap.release()\n",
    "cv2.destroyAllWindows()\n"
   ]
  },
  {
   "cell_type": "markdown",
   "id": "37854546",
   "metadata": {},
   "source": [
    "## "
   ]
  },
  {
   "cell_type": "code",
   "execution_count": null,
   "id": "958c6343",
   "metadata": {},
   "outputs": [],
   "source": []
  }
 ],
 "metadata": {
  "kernelspec": {
   "display_name": "Python 3 (ipykernel)",
   "language": "python",
   "name": "python3"
  },
  "language_info": {
   "codemirror_mode": {
    "name": "ipython",
    "version": 3
   },
   "file_extension": ".py",
   "mimetype": "text/x-python",
   "name": "python",
   "nbconvert_exporter": "python",
   "pygments_lexer": "ipython3",
   "version": "3.10.9"
  }
 },
 "nbformat": 4,
 "nbformat_minor": 5
}
